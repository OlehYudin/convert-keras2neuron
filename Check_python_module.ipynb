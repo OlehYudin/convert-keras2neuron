{
 "cells": [
  {
   "cell_type": "code",
   "execution_count": 1,
   "id": "e1336825",
   "metadata": {},
   "outputs": [
    {
     "name": "stderr",
     "output_type": "stream",
     "text": [
      "2025-05-07 13:52:35.062505: I tensorflow/core/platform/cpu_feature_guard.cc:193] This TensorFlow binary is optimized with oneAPI Deep Neural Network Library (oneDNN) to use the following CPU instructions in performance-critical operations:  AVX2 FMA\n",
      "To enable them in other operations, rebuild TensorFlow with the appropriate compiler flags.\n",
      "2025-05-07 13:52:35.159885: W tensorflow/stream_executor/platform/default/dso_loader.cc:64] Could not load dynamic library 'libcudart.so.11.0'; dlerror: libcudart.so.11.0: cannot open shared object file: No such file or directory; LD_LIBRARY_PATH: /opt/amazon/efa/lib64:/opt/amazon/openmpi/lib64:/opt/amazon/ofi-nccl/lib64:/usr/local/cuda-12.1/lib:/usr/local/cuda-12.1/lib64:/usr/local/cuda-12.1:/usr/local/cuda-12.1/extras/CUPTI/lib64:/usr/local/cuda-12.1/targets/x86_64-linux/lib/:/usr/local/lib:/usr/lib:/lib:/opt/amazon/efa/lib64:/opt/amazon/openmpi/lib64:/opt/amazon/ofi-nccl/lib64:/usr/local/cuda-12.1/lib:/usr/local/cuda-12.1/lib64:/usr/local/cuda-12.1:/usr/local/cuda-12.1/extras/CUPTI/lib64:/usr/local/cuda-12.1/targets/x86_64-linux/lib/:/usr/local/lib:/usr/lib:/lib\n",
      "2025-05-07 13:52:35.159904: I tensorflow/stream_executor/cuda/cudart_stub.cc:29] Ignore above cudart dlerror if you do not have a GPU set up on your machine.\n",
      "2025-05-07 13:52:35.179424: E tensorflow/stream_executor/cuda/cuda_blas.cc:2981] Unable to register cuBLAS factory: Attempting to register factory for plugin cuBLAS when one has already been registered\n",
      "2025-05-07 13:52:35.688581: W tensorflow/stream_executor/platform/default/dso_loader.cc:64] Could not load dynamic library 'libnvinfer.so.7'; dlerror: libnvinfer.so.7: cannot open shared object file: No such file or directory; LD_LIBRARY_PATH: /opt/amazon/efa/lib64:/opt/amazon/openmpi/lib64:/opt/amazon/ofi-nccl/lib64:/usr/local/cuda-12.1/lib:/usr/local/cuda-12.1/lib64:/usr/local/cuda-12.1:/usr/local/cuda-12.1/extras/CUPTI/lib64:/usr/local/cuda-12.1/targets/x86_64-linux/lib/:/usr/local/lib:/usr/lib:/lib:/opt/amazon/efa/lib64:/opt/amazon/openmpi/lib64:/opt/amazon/ofi-nccl/lib64:/usr/local/cuda-12.1/lib:/usr/local/cuda-12.1/lib64:/usr/local/cuda-12.1:/usr/local/cuda-12.1/extras/CUPTI/lib64:/usr/local/cuda-12.1/targets/x86_64-linux/lib/:/usr/local/lib:/usr/lib:/lib\n",
      "2025-05-07 13:52:35.688666: W tensorflow/stream_executor/platform/default/dso_loader.cc:64] Could not load dynamic library 'libnvinfer_plugin.so.7'; dlerror: libnvinfer_plugin.so.7: cannot open shared object file: No such file or directory; LD_LIBRARY_PATH: /opt/amazon/efa/lib64:/opt/amazon/openmpi/lib64:/opt/amazon/ofi-nccl/lib64:/usr/local/cuda-12.1/lib:/usr/local/cuda-12.1/lib64:/usr/local/cuda-12.1:/usr/local/cuda-12.1/extras/CUPTI/lib64:/usr/local/cuda-12.1/targets/x86_64-linux/lib/:/usr/local/lib:/usr/lib:/lib:/opt/amazon/efa/lib64:/opt/amazon/openmpi/lib64:/opt/amazon/ofi-nccl/lib64:/usr/local/cuda-12.1/lib:/usr/local/cuda-12.1/lib64:/usr/local/cuda-12.1:/usr/local/cuda-12.1/extras/CUPTI/lib64:/usr/local/cuda-12.1/targets/x86_64-linux/lib/:/usr/local/lib:/usr/lib:/lib\n",
      "2025-05-07 13:52:35.688672: W tensorflow/compiler/tf2tensorrt/utils/py_utils.cc:38] TF-TRT Warning: Cannot dlopen some TensorRT libraries. If you would like to use Nvidia GPU with TensorRT, please make sure the missing libraries mentioned above are installed properly.\n",
      "2025-05-07 13:52:36.134949: E tensorflow/stream_executor/cuda/cuda_driver.cc:265] failed call to cuInit: CUDA_ERROR_NO_DEVICE: no CUDA-capable device is detected\n",
      "2025-05-07 13:52:36.134994: I tensorflow/stream_executor/cuda/cuda_diagnostics.cc:156] kernel driver does not appear to be running on this host (ip-172-16-170-136.ec2.internal): /proc/driver/nvidia/version does not exist\n"
     ]
    }
   ],
   "source": [
    "from convert2neuronx import convert_to_neuron\n",
    "import os"
   ]
  },
  {
   "cell_type": "code",
   "execution_count": 2,
   "id": "aec62730",
   "metadata": {},
   "outputs": [],
   "source": [
    "# S3 configuration\n",
    "BUCKET_NAME = 'deeplabv3-model-bucket-2025'  # Update if different s3://deeplabv3-model-bucket-2025/keras_models/deeplab_v3_plus_384_Augmented_nolr_3_CLASSES.keras\n",
    "MODEL_KEY = 'keras_models/deeplab_v3_plus_384_Augmented_nolr_3_CLASSES.keras'\n",
    "TEMP_DIR = './temp2'\n",
    "\n",
    "MODEL_KERAS_PATH = os.path.join(TEMP_DIR, 'model.keras')\n",
    "SAVED_MODEL_DIR = os.path.join(TEMP_DIR, 'deeplabv3_saved_model')\n",
    "COMPILED_MODEL_DIR = os.path.join(TEMP_DIR, 'deeplabv_neuron')\n",
    "OUTPUT_ZIP = 'output_models/deeplabv3_neuron.zip'\n",
    "\n",
    "image_path = '41f9e920-51b7-44c3-b417-d9ceb0db9ebd.jpg'"
   ]
  },
  {
   "cell_type": "code",
   "execution_count": 3,
   "id": "1cf64d00",
   "metadata": {},
   "outputs": [
    {
     "name": "stdout",
     "output_type": "stream",
     "text": [
      "instance-type: inf2.xlarge\n",
      "instance-id: i-01360d7ffef87d8be\n",
      "+--------+--------+--------+--------------+-------+------------------------------------------+---------+\n",
      "| NEURON | NEURON | NEURON |     PCI      |  PID  |                 COMMAND                  | RUNTIME |\n",
      "| DEVICE | CORES  | MEMORY |     BDF      |       |                                          | VERSION |\n",
      "+--------+--------+--------+--------------+-------+------------------------------------------+---------+\n",
      "| 0      | 2      | 32 GB  | 0000:00:1f.0 | 32505 | /home/ec2-user/anaconda3/envs/neuron_... | 2.21.41 |\n",
      "+--------+--------+--------+--------------+-------+------------------------------------------+---------+\n",
      "Checked Neuron device status\n",
      "Downloaded model from s3://deeplabv3-model-bucket-2025/keras_models/deeplab_v3_plus_384_Augmented_nolr_3_CLASSES.keras to ./temp2/model.keras\n"
     ]
    },
    {
     "name": "stderr",
     "output_type": "stream",
     "text": [
      "2025-05-07 13:52:43.978255: I tensorflow/core/platform/cpu_feature_guard.cc:193] This TensorFlow binary is optimized with oneAPI Deep Neural Network Library (oneDNN) to use the following CPU instructions in performance-critical operations:  AVX2 FMA\n",
      "To enable them in other operations, rebuild TensorFlow with the appropriate compiler flags.\n"
     ]
    },
    {
     "name": "stdout",
     "output_type": "stream",
     "text": [
      "Loaded Keras model from ./temp2/model.keras\n",
      "Detected input shape: (1, 384, 384, 3)\n",
      "WARNING:tensorflow:Compiled the loaded model, but the compiled metrics have yet to be built. `model.compile_metrics` will be empty until you train or evaluate the model.\n"
     ]
    },
    {
     "name": "stderr",
     "output_type": "stream",
     "text": [
      "WARNING:absl:Found untraced functions such as _jit_compiled_convolution_op, _jit_compiled_convolution_op, _jit_compiled_convolution_op, _jit_compiled_convolution_op, _jit_compiled_convolution_op while saving (showing 5 of 52). These functions will not be directly callable after loading.\n"
     ]
    },
    {
     "name": "stdout",
     "output_type": "stream",
     "text": [
      "INFO:tensorflow:Assets written to: ./temp2/deeplabv3_saved_model/assets\n"
     ]
    },
    {
     "name": "stderr",
     "output_type": "stream",
     "text": [
      "INFO:tensorflow:Assets written to: ./temp2/deeplabv3_saved_model/assets\n"
     ]
    },
    {
     "name": "stdout",
     "output_type": "stream",
     "text": [
      "Saved model to ./temp2/deeplabv3_saved_model\n"
     ]
    },
    {
     "name": "stderr",
     "output_type": "stream",
     "text": [
      "2025-05-07 13:52:56.209615: I tensorflow/core/grappler/devices.cc:66] Number of eligible GPUs (core count >= 8, compute capability >= 0.0): 0\n",
      "2025-05-07 13:52:56.209768: I tensorflow/core/grappler/clusters/single_machine.cc:358] Starting new session\n",
      "2025-05-07 13:52:57.212996: I tensorflow/core/grappler/devices.cc:66] Number of eligible GPUs (core count >= 8, compute capability >= 0.0): 0\n",
      "2025-05-07 13:52:57.213113: I tensorflow/core/grappler/clusters/single_machine.cc:358] Starting new session\n",
      "2025-05-07 13:52:57.484725: I tensorflow/neuron/grappler/convert/segment.cc:456] There are 8 ops of 5 different types in the graph that are not compiled by neuron-cc: ResizeBilinear, Pad, Placeholder, NoOp, Const, (For more information see https://awsdocs-neuron.readthedocs-hosted.com/en/latest/release-notes/neuron-cc-ops/neuron-cc-ops-tensorflow.html).\n",
      "2025-05-07 13:52:57.904056: I tensorflow/core/grappler/devices.cc:66] Number of eligible GPUs (core count >= 8, compute capability >= 0.0): 0\n",
      "2025-05-07 13:52:57.904176: I tensorflow/core/grappler/clusters/single_machine.cc:358] Starting new session\n",
      "2025-05-07 13:52:58.537729: I tensorflow/core/platform/cpu_feature_guard.cc:193] This TensorFlow binary is optimized with oneAPI Deep Neural Network Library (oneDNN) to use the following CPU instructions in performance-critical operations:  AVX2 FMA\n",
      "To enable them in other operations, rebuild TensorFlow with the appropriate compiler flags.\n",
      "2025-05-07 13:52:58.540910: I tensorflow/compiler/mlir/tensorflow/utils/dump_mlir_util.cc:268] disabling MLIR crash reproducer, set env var `MLIR_CRASH_REPRODUCER_DIRECTORY` to enable.\n"
     ]
    },
    {
     "name": "stdout",
     "output_type": "stream",
     "text": [
      ".\n",
      "Compiler status PASS\n",
      "INFO:tensorflow:Assets written to: ./temp2/deeplabv_neuron/assets\n"
     ]
    },
    {
     "name": "stderr",
     "output_type": "stream",
     "text": [
      "INFO:tensorflow:Assets written to: ./temp2/deeplabv_neuron/assets\n"
     ]
    },
    {
     "name": "stdout",
     "output_type": "stream",
     "text": [
      "Model compiled successfully\n",
      "Compiling model for NeuronX to ./temp2/deeplabv_neuron\n",
      "Testing inference with compiled model...\n",
      "2025-May-07 13:53:13.659016   933:1127   INFO   NRT:nrt_init                                Neuron Runtime 2.21.41.0 built on Jun 24 2024\n",
      "2025-May-07 13:53:13.659063   933:1127   INFO   NRT:nrt_init                                Found neuron driver: 2.20\n",
      "2025-May-07 13:53:13.659256   933:1127   INFO   NRT:nrt_allocate_neuron_cores               Instance info:: device count:1 cores per device:2 architecture:TRN\n"
     ]
    },
    {
     "name": "stderr",
     "output_type": "stream",
     "text": [
      "2025-May-07 13:53:13.659264   933:1127  ERROR   NRT:nrt_allocate_neuron_cores               Virtual Neuron Core(s) not available - Requested:2 Available:0 Virtual Core size 1\n",
      "2025-May-07 13:53:13.667568   933:1127  ERROR   NRT:nrt_infodump                            Neuron runtime information - please include in any support request:\n",
      "2025-May-07 13:53:13.673859   933:1127  ERROR   NRT:nrt_infodump                            ------------->8------------[ cut here ]------------>8-------------\n",
      "2025-May-07 13:53:13.680193   933:1127  ERROR   NRT:nrt_infodump                            NRT version: 2.21.41.0 (fb1705f5f26a084084cc75d6f4201472a1aa8ff1)\n",
      "2025-May-07 13:53:13.686447   933:1127  ERROR   NRT:nrt_infodump                            CCOM not loaded\n",
      "2025-May-07 13:53:13.691461   933:1127  ERROR   NRT:nrt_infodump                            Instance ID: i-01360d7ffef87d8be\n",
      "2025-May-07 13:53:13.696905   933:1127  ERROR   NRT:nrt_infodump                            Cluster ID: N/A\n",
      "2025-May-07 13:53:13.701975   933:1127  ERROR   NRT:nrt_infodump                            Kernel: Linux 5.10.235-227.919.amzn2.x86_64 #1 SMP Sat Apr 5 16:59:05 UTC 2025\n",
      "2025-May-07 13:53:13.708571   933:1127  ERROR   NRT:nrt_infodump                            Nodename: ip-172-16-170-136.ec2.internal\n",
      "2025-May-07 13:53:13.714302   933:1127  ERROR   NRT:nrt_infodump                            Driver version: 2.20.28.0\n",
      "\n",
      "2025-May-07 13:53:13.721242   933:1127  ERROR   NRT:nrt_infodump                            Failure: NRT_FAILURE in nrt_init()\n",
      "2025-May-07 13:53:13.726789   933:1127  ERROR   NRT:nrt_infodump                            Environment:\n",
      "2025-May-07 13:53:13.731779   933:1127  ERROR   NRT:nrt_infodump                                NEURON_RT_LOG_LEVEL=INFO\n",
      "2025-May-07 13:53:13.737184   933:1127  ERROR   NRT:nrt_infodump                            -------------8<-----------[ cut to here ]-----------8<------------\n",
      "2025-05-07 13:53:13.743534: W tensorflow/core/framework/op_kernel.cc:1780] OP_REQUIRES failed at neuron_op.cc:44 : UNAVAILABLE: tensorflow/neuron/runtime/direct/adaptor.cc:93:Nrt::Init failed: nrt_init: status=1, error message=\"Non specific failure\".\n"
     ]
    },
    {
     "name": "stdout",
     "output_type": "stream",
     "text": [
      "Compilation failed: Graph execution error:\n",
      "\n",
      "Detected at node 'neuron_op_7402231599686a20' defined at (most recent call last):\n",
      "    File \"/home/ec2-user/anaconda3/envs/neuron_tensorflow_p38/lib/python3.8/runpy.py\", line 194, in _run_module_as_main\n",
      "      return _run_code(code, main_globals, None,\n",
      "    File \"/home/ec2-user/anaconda3/envs/neuron_tensorflow_p38/lib/python3.8/runpy.py\", line 87, in _run_code\n",
      "      exec(code, run_globals)\n",
      "    File \"/home/ec2-user/anaconda3/envs/neuron_tensorflow_p38/lib/python3.8/site-packages/ipykernel/__main__.py\", line 5, in <module>\n",
      "      app.launch_new_instance()\n",
      "    File \"/home/ec2-user/anaconda3/envs/neuron_tensorflow_p38/lib/python3.8/site-packages/traitlets/config/application.py\", line 1075, in launch_instance\n",
      "      app.start()\n",
      "    File \"/home/ec2-user/anaconda3/envs/neuron_tensorflow_p38/lib/python3.8/site-packages/ipykernel/kernelapp.py\", line 739, in start\n",
      "      self.io_loop.start()\n",
      "    File \"/home/ec2-user/anaconda3/envs/neuron_tensorflow_p38/lib/python3.8/site-packages/tornado/platform/asyncio.py\", line 205, in start\n",
      "      self.asyncio_loop.run_forever()\n",
      "    File \"/home/ec2-user/anaconda3/envs/neuron_tensorflow_p38/lib/python3.8/asyncio/base_events.py\", line 570, in run_forever\n",
      "      self._run_once()\n",
      "    File \"/home/ec2-user/anaconda3/envs/neuron_tensorflow_p38/lib/python3.8/asyncio/base_events.py\", line 1859, in _run_once\n",
      "      handle._run()\n",
      "    File \"/home/ec2-user/anaconda3/envs/neuron_tensorflow_p38/lib/python3.8/asyncio/events.py\", line 81, in _run\n",
      "      self._context.run(self._callback, *self._args)\n",
      "    File \"/home/ec2-user/anaconda3/envs/neuron_tensorflow_p38/lib/python3.8/site-packages/ipykernel/kernelbase.py\", line 545, in dispatch_queue\n",
      "      await self.process_one()\n",
      "    File \"/home/ec2-user/anaconda3/envs/neuron_tensorflow_p38/lib/python3.8/site-packages/ipykernel/kernelbase.py\", line 534, in process_one\n",
      "      await dispatch(*args)\n",
      "    File \"/home/ec2-user/anaconda3/envs/neuron_tensorflow_p38/lib/python3.8/site-packages/ipykernel/kernelbase.py\", line 437, in dispatch_shell\n",
      "      await result\n",
      "    File \"/home/ec2-user/anaconda3/envs/neuron_tensorflow_p38/lib/python3.8/site-packages/ipykernel/ipkernel.py\", line 362, in execute_request\n",
      "      await super().execute_request(stream, ident, parent)\n",
      "    File \"/home/ec2-user/anaconda3/envs/neuron_tensorflow_p38/lib/python3.8/site-packages/ipykernel/kernelbase.py\", line 778, in execute_request\n",
      "      reply_content = await reply_content\n",
      "    File \"/home/ec2-user/anaconda3/envs/neuron_tensorflow_p38/lib/python3.8/site-packages/ipykernel/ipkernel.py\", line 449, in do_execute\n",
      "      res = shell.run_cell(\n",
      "    File \"/home/ec2-user/anaconda3/envs/neuron_tensorflow_p38/lib/python3.8/site-packages/ipykernel/zmqshell.py\", line 549, in run_cell\n",
      "      return super().run_cell(*args, **kwargs)\n",
      "    File \"/home/ec2-user/anaconda3/envs/neuron_tensorflow_p38/lib/python3.8/site-packages/IPython/core/interactiveshell.py\", line 3009, in run_cell\n",
      "      result = self._run_cell(\n",
      "    File \"/home/ec2-user/anaconda3/envs/neuron_tensorflow_p38/lib/python3.8/site-packages/IPython/core/interactiveshell.py\", line 3064, in _run_cell\n",
      "      result = runner(coro)\n",
      "    File \"/home/ec2-user/anaconda3/envs/neuron_tensorflow_p38/lib/python3.8/site-packages/IPython/core/async_helpers.py\", line 129, in _pseudo_sync_runner\n",
      "      coro.send(None)\n",
      "    File \"/home/ec2-user/anaconda3/envs/neuron_tensorflow_p38/lib/python3.8/site-packages/IPython/core/interactiveshell.py\", line 3269, in run_cell_async\n",
      "      has_raised = await self.run_ast_nodes(code_ast.body, cell_name,\n",
      "    File \"/home/ec2-user/anaconda3/envs/neuron_tensorflow_p38/lib/python3.8/site-packages/IPython/core/interactiveshell.py\", line 3448, in run_ast_nodes\n",
      "      if await self.run_code(code, result, async_=asy):\n",
      "    File \"/home/ec2-user/anaconda3/envs/neuron_tensorflow_p38/lib/python3.8/site-packages/IPython/core/interactiveshell.py\", line 3508, in run_code\n",
      "      exec(code_obj, self.user_global_ns, self.user_ns)\n",
      "    File \"/tmp/ipykernel_933/540185639.py\", line 1, in <module>\n",
      "      convert_to_neuron(\n",
      "    File \"/home/ec2-user/SageMaker/convert2neuronx.py\", line 414, in convert_to_neuron\n",
      "      compiled_dir, input_shape = convert_model(model_path, saved_model_dir, compiled_model_dir)\n",
      "    File \"/home/ec2-user/SageMaker/convert2neuronx.py\", line 162, in convert_model\n",
      "      neuron_model = tfnx.trace(model, example_input)\n",
      "    File \"/home/ec2-user/anaconda3/envs/neuron_tensorflow_p38/lib/python3.8/site-packages/tensorflow_neuronx/_trace.py\", line 8, in trace\n",
      "      return tfn_trace(func, example_inputs, subgraph_builder_function)\n",
      "    File \"/home/ec2-user/anaconda3/envs/neuron_tensorflow_p38/lib/python3.8/site-packages/tensorflow_neuron/python/_trace.py\", line 241, in trace\n",
      "      cfunc = _wrap_graph_def_as_concrete_function(graph_def, func)\n",
      "    File \"/home/ec2-user/anaconda3/envs/neuron_tensorflow_p38/lib/python3.8/site-packages/tensorflow_neuron/python/_trace.py\", line 606, in _wrap_graph_def_as_concrete_function\n",
      "      cfunc = wrap_function.function_from_graph_def(graph_def, input_names, output_names)\n",
      "Node: 'neuron_op_7402231599686a20'\n",
      "Detected at node 'neuron_op_7402231599686a20' defined at (most recent call last):\n",
      "    File \"/home/ec2-user/anaconda3/envs/neuron_tensorflow_p38/lib/python3.8/runpy.py\", line 194, in _run_module_as_main\n",
      "      return _run_code(code, main_globals, None,\n",
      "    File \"/home/ec2-user/anaconda3/envs/neuron_tensorflow_p38/lib/python3.8/runpy.py\", line 87, in _run_code\n",
      "      exec(code, run_globals)\n",
      "    File \"/home/ec2-user/anaconda3/envs/neuron_tensorflow_p38/lib/python3.8/site-packages/ipykernel/__main__.py\", line 5, in <module>\n",
      "      app.launch_new_instance()\n",
      "    File \"/home/ec2-user/anaconda3/envs/neuron_tensorflow_p38/lib/python3.8/site-packages/traitlets/config/application.py\", line 1075, in launch_instance\n",
      "      app.start()\n",
      "    File \"/home/ec2-user/anaconda3/envs/neuron_tensorflow_p38/lib/python3.8/site-packages/ipykernel/kernelapp.py\", line 739, in start\n",
      "      self.io_loop.start()\n",
      "    File \"/home/ec2-user/anaconda3/envs/neuron_tensorflow_p38/lib/python3.8/site-packages/tornado/platform/asyncio.py\", line 205, in start\n",
      "      self.asyncio_loop.run_forever()\n",
      "    File \"/home/ec2-user/anaconda3/envs/neuron_tensorflow_p38/lib/python3.8/asyncio/base_events.py\", line 570, in run_forever\n",
      "      self._run_once()\n",
      "    File \"/home/ec2-user/anaconda3/envs/neuron_tensorflow_p38/lib/python3.8/asyncio/base_events.py\", line 1859, in _run_once\n",
      "      handle._run()\n",
      "    File \"/home/ec2-user/anaconda3/envs/neuron_tensorflow_p38/lib/python3.8/asyncio/events.py\", line 81, in _run\n",
      "      self._context.run(self._callback, *self._args)\n",
      "    File \"/home/ec2-user/anaconda3/envs/neuron_tensorflow_p38/lib/python3.8/site-packages/ipykernel/kernelbase.py\", line 545, in dispatch_queue\n",
      "      await self.process_one()\n",
      "    File \"/home/ec2-user/anaconda3/envs/neuron_tensorflow_p38/lib/python3.8/site-packages/ipykernel/kernelbase.py\", line 534, in process_one\n",
      "      await dispatch(*args)\n",
      "    File \"/home/ec2-user/anaconda3/envs/neuron_tensorflow_p38/lib/python3.8/site-packages/ipykernel/kernelbase.py\", line 437, in dispatch_shell\n",
      "      await result\n",
      "    File \"/home/ec2-user/anaconda3/envs/neuron_tensorflow_p38/lib/python3.8/site-packages/ipykernel/ipkernel.py\", line 362, in execute_request\n",
      "      await super().execute_request(stream, ident, parent)\n",
      "    File \"/home/ec2-user/anaconda3/envs/neuron_tensorflow_p38/lib/python3.8/site-packages/ipykernel/kernelbase.py\", line 778, in execute_request\n",
      "      reply_content = await reply_content\n",
      "    File \"/home/ec2-user/anaconda3/envs/neuron_tensorflow_p38/lib/python3.8/site-packages/ipykernel/ipkernel.py\", line 449, in do_execute\n",
      "      res = shell.run_cell(\n",
      "    File \"/home/ec2-user/anaconda3/envs/neuron_tensorflow_p38/lib/python3.8/site-packages/ipykernel/zmqshell.py\", line 549, in run_cell\n",
      "      return super().run_cell(*args, **kwargs)\n",
      "    File \"/home/ec2-user/anaconda3/envs/neuron_tensorflow_p38/lib/python3.8/site-packages/IPython/core/interactiveshell.py\", line 3009, in run_cell\n",
      "      result = self._run_cell(\n",
      "    File \"/home/ec2-user/anaconda3/envs/neuron_tensorflow_p38/lib/python3.8/site-packages/IPython/core/interactiveshell.py\", line 3064, in _run_cell\n",
      "      result = runner(coro)\n",
      "    File \"/home/ec2-user/anaconda3/envs/neuron_tensorflow_p38/lib/python3.8/site-packages/IPython/core/async_helpers.py\", line 129, in _pseudo_sync_runner\n",
      "      coro.send(None)\n",
      "    File \"/home/ec2-user/anaconda3/envs/neuron_tensorflow_p38/lib/python3.8/site-packages/IPython/core/interactiveshell.py\", line 3269, in run_cell_async\n",
      "      has_raised = await self.run_ast_nodes(code_ast.body, cell_name,\n",
      "    File \"/home/ec2-user/anaconda3/envs/neuron_tensorflow_p38/lib/python3.8/site-packages/IPython/core/interactiveshell.py\", line 3448, in run_ast_nodes\n",
      "      if await self.run_code(code, result, async_=asy):\n",
      "    File \"/home/ec2-user/anaconda3/envs/neuron_tensorflow_p38/lib/python3.8/site-packages/IPython/core/interactiveshell.py\", line 3508, in run_code\n",
      "      exec(code_obj, self.user_global_ns, self.user_ns)\n",
      "    File \"/tmp/ipykernel_933/540185639.py\", line 1, in <module>\n",
      "      convert_to_neuron(\n",
      "    File \"/home/ec2-user/SageMaker/convert2neuronx.py\", line 414, in convert_to_neuron\n",
      "      compiled_dir, input_shape = convert_model(model_path, saved_model_dir, compiled_model_dir)\n",
      "    File \"/home/ec2-user/SageMaker/convert2neuronx.py\", line 162, in convert_model\n",
      "      neuron_model = tfnx.trace(model, example_input)\n",
      "    File \"/home/ec2-user/anaconda3/envs/neuron_tensorflow_p38/lib/python3.8/site-packages/tensorflow_neuronx/_trace.py\", line 8, in trace\n",
      "      return tfn_trace(func, example_inputs, subgraph_builder_function)\n",
      "    File \"/home/ec2-user/anaconda3/envs/neuron_tensorflow_p38/lib/python3.8/site-packages/tensorflow_neuron/python/_trace.py\", line 241, in trace\n",
      "      cfunc = _wrap_graph_def_as_concrete_function(graph_def, func)\n",
      "    File \"/home/ec2-user/anaconda3/envs/neuron_tensorflow_p38/lib/python3.8/site-packages/tensorflow_neuron/python/_trace.py\", line 606, in _wrap_graph_def_as_concrete_function\n",
      "      cfunc = wrap_function.function_from_graph_def(graph_def, input_names, output_names)\n",
      "Node: 'neuron_op_7402231599686a20'\n",
      "2 root error(s) found.\n",
      "  (0) INTERNAL:  tensorflow/neuron/runtime/direct/adaptor.cc:93:Nrt::Init failed: nrt_init: status=1, error message=\"Non specific failure\".\n",
      "\t [[{{node neuron_op_7402231599686a20}}]]\n",
      "Executing non-communication op <aws_neuron_model/StatefulPartitionedCall/neuron_op_7402231599686a20> originally returned UnavailableError, and was replaced by InternalError to avoid invoking TF network error handling logic.\n",
      "\t [[aws_neuron_model/StatefulPartitionedCall/neuron_op_7402231599686a20/_8]]\n",
      "  (1) INTERNAL:  tensorflow/neuron/runtime/direct/adaptor.cc:93:Nrt::Init failed: nrt_init: status=1, error message=\"Non specific failure\".\n",
      "\t [[{{node neuron_op_7402231599686a20}}]]\n",
      "Executing non-communication op <aws_neuron_model/StatefulPartitionedCall/neuron_op_7402231599686a20> originally returned UnavailableError, and was replaced by InternalError to avoid invoking TF network error handling logic.\n",
      "0 successful operations.\n",
      "0 derived errors ignored. [Op:__inference_predict_function_32011]\n",
      "Using fallback: copying SavedModel to compiled directory\n",
      "Converted model to ./temp2/deeplabv_neuron and (1, 384, 384, 3)\n",
      "WARNING:tensorflow:No training configuration found in save file, so the model was *not* compiled. Compile it manually.\n"
     ]
    },
    {
     "name": "stderr",
     "output_type": "stream",
     "text": [
      "WARNING:tensorflow:No training configuration found in save file, so the model was *not* compiled. Compile it manually.\n"
     ]
    },
    {
     "name": "stdout",
     "output_type": "stream",
     "text": [
      "Loaded compiled model from ./temp2/deeplabv_neuron\n",
      "Loaded and preprocessed image from 41f9e920-51b7-44c3-b417-d9ceb0db9ebd.jpg\n",
      "Running inference...\n",
      "1/1 [==============================] - 1s 926ms/step\n",
      "Inference successful, output shape: (1, 384, 384, 4)\n",
      "Segmentation mask shape: (384, 384)\n",
      "Unique class labels: [0 3]\n",
      "Created zip file output_models/deeplabv3_neuron.zip\n",
      "Added input shape metadata: (1, 384, 384, 3)\n",
      "Uploaded output_models/deeplabv3_neuron.zip to S3 bucket deeplabv3-model-bucket-2025 with metadata\n",
      "Uploaded to s3://deeplabv3-model-bucket-2025/output_models/deeplabv3_neuron.zip\n",
      "Conversion process completed successfully\n"
     ]
    },
    {
     "data": {
      "text/plain": [
       "{'success': True,\n",
       " 'model_path': './temp2/deeplabv_neuron',\n",
       " 's3_path': 's3://deeplabv3-model-bucket-2025/output_models/deeplabv3_neuron.zip',\n",
       " 'inference_success': True}"
      ]
     },
     "execution_count": 3,
     "metadata": {},
     "output_type": "execute_result"
    }
   ],
   "source": [
    "convert_to_neuron(\n",
    "    BUCKET_NAME,\n",
    "    MODEL_KEY,\n",
    "    image_path,\n",
    "    model_keras_path=MODEL_KERAS_PATH,\n",
    "    saved_model_dir=SAVED_MODEL_DIR,\n",
    "    compiled_model_dir=COMPILED_MODEL_DIR,\n",
    "    output_zip=OUTPUT_ZIP,\n",
    ")"
   ]
  },
  {
   "cell_type": "code",
   "execution_count": 4,
   "id": "c95c2108",
   "metadata": {},
   "outputs": [],
   "source": [
    "from convert2neuronx import download_zip_s3, get_segmentation"
   ]
  },
  {
   "cell_type": "code",
   "execution_count": 5,
   "id": "e3cf5f78",
   "metadata": {},
   "outputs": [
    {
     "name": "stdout",
     "output_type": "stream",
     "text": [
      "Retrieved metadata from S3 object: {'creation-date': '2025-05-07T13:53:20.937844', 'input-shape': '(1, 384, 384, 3)'}\n",
      "Downloaded zip from s3://deeplabv3-model-bucket-2025/output_models/deeplabv3_neuron.zip to ./temp2/temp_download.zip\n",
      "Extracted zip contents to ./temp2/deeplabv_neuron2\n",
      "Removed temporary zip file ./temp2/temp_download.zip\n",
      "Retrieved input shape from metadata: (1, 384, 384, 3)\n"
     ]
    }
   ],
   "source": [
    "neuron_model, input_shape = download_zip_s3(BUCKET_NAME, OUTPUT_ZIP, os.path.join(TEMP_DIR, 'deeplabv_neuron2'))"
   ]
  },
  {
   "cell_type": "code",
   "execution_count": 6,
   "id": "b2ce1054",
   "metadata": {},
   "outputs": [
    {
     "name": "stdout",
     "output_type": "stream",
     "text": [
      "WARNING:tensorflow:No training configuration found in save file, so the model was *not* compiled. Compile it manually.\n"
     ]
    },
    {
     "name": "stderr",
     "output_type": "stream",
     "text": [
      "WARNING:tensorflow:No training configuration found in save file, so the model was *not* compiled. Compile it manually.\n"
     ]
    },
    {
     "name": "stdout",
     "output_type": "stream",
     "text": [
      "Loaded model from ./temp2/deeplabv_neuron2\n",
      "Loaded and preprocessed image from 41f9e920-51b7-44c3-b417-d9ceb0db9ebd.jpg\n",
      "Running inference for segmentation...\n",
      "1/1 [==============================] - 1s 898ms/step\n",
      "Inference successful, output shape: (1, 384, 384, 4)\n",
      "Generated multi-class segmentation mask with shape: (384, 384)\n",
      "Unique class labels: [0 3]\n"
     ]
    }
   ],
   "source": [
    "seg = get_segmentation(image_path, neuron_model, input_shape)"
   ]
  },
  {
   "cell_type": "code",
   "execution_count": null,
   "id": "f30b5bab",
   "metadata": {},
   "outputs": [],
   "source": []
  }
 ],
 "metadata": {
  "kernelspec": {
   "display_name": "conda_neuron_tensorflow_p38",
   "language": "python",
   "name": "conda_neuron_tensorflow_p38"
  },
  "language_info": {
   "codemirror_mode": {
    "name": "ipython",
    "version": 3
   },
   "file_extension": ".py",
   "mimetype": "text/x-python",
   "name": "python",
   "nbconvert_exporter": "python",
   "pygments_lexer": "ipython3",
   "version": "3.8.20"
  }
 },
 "nbformat": 4,
 "nbformat_minor": 5
}
